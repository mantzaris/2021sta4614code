{
 "cells": [
  {
   "cell_type": "code",
   "execution_count": 1,
   "id": "69401745-d0a3-4f74-8eff-87ef422afeec",
   "metadata": {},
   "outputs": [],
   "source": [
    "out.table.maker = function(vec){\n",
    "    unique.labels = unique(vec)\n",
    "    unique.labels.sorted = sort(unique.labels)\n",
    "    count.str = ''\n",
    "    count.vec = c()\n",
    "    for(i in 1:length(unique.labels.sorted)){\n",
    "        inds.label.i = which(unique.labels.sorted[i] == vec)\n",
    "        label.i.length = length(inds.label.i)\n",
    "        count.str = paste(count.str,label.i.length)\n",
    "        count.vec = append(count.vec,label.i.length)\n",
    "    }\n",
    "    df.table = as.data.frame(rbind(count.vec))\n",
    "    colnames(df.table) = unique.labels.sorted\n",
    "    return(df.table)\n",
    "    #print(paste(label1.length,label2.length));\n",
    "}"
   ]
  },
  {
   "cell_type": "code",
   "execution_count": 2,
   "id": "85f81f20-0801-473b-a074-be5ca9916f63",
   "metadata": {},
   "outputs": [],
   "source": [
    "chi.E = function(table.O,uniform = TRUE,probs=0){\n",
    "    N = sum(table.O[1,])\n",
    "    #to start assume H_0:P_i=1/|o| (uniform probability for each label\n",
    "    E = rep(-1,dim(table.O)[2])\n",
    "    if(uniform == TRUE){\n",
    "        p.label = 1 / dim(table.O)[2]\n",
    "        pp = p.label * N\n",
    "        E = rep( pp ,dim(table.O)[2])\n",
    "    } \n",
    "    else{\n",
    "        if( sum(probs) != 1 ){\n",
    "            probs = probs / sum(probs)\n",
    "        }\n",
    "        for (i in 1:dim(table.O)[2]){\n",
    "           E[i] = probs[i] * N   \n",
    "        }   \n",
    "    }\n",
    "    return(E)\n",
    "}"
   ]
  },
  {
   "cell_type": "code",
   "execution_count": 3,
   "id": "04b2a184-ef52-47fe-beb1-bb2cedb0d512",
   "metadata": {},
   "outputs": [],
   "source": [
    "our.chisqrs = function(table.O, vec.E){\n",
    "    chi.sq.total = c()\n",
    "    for(i in 1:dim(table.O)[2]){\n",
    "        chi.sq.tmp = (table.O[1,i] - vec.E[i])^2 / vec.E[i]\n",
    "        chi.sq.total = append(chi.sq.total,chi.sq.tmp)\n",
    "    }\n",
    "    return(sum(chi.sq.total))\n",
    "}\n"
   ]
  },
  {
   "cell_type": "code",
   "execution_count": 35,
   "id": "d3d2ad20-15ef-46cf-b8e2-6a52626424af",
   "metadata": {},
   "outputs": [],
   "source": [
    "sta4614.chisq = function(samples,probabilityVecE){\n",
    "\n",
    "    our.table = out.table.maker(samples)\n",
    "\n",
    "    E = chi.E(our.table,FALSE,probabilityVecE)\n",
    "    chisqr = our.chisqrs( our.table , E)\n",
    "    results.list = list(\"chisqr\"=chisqr,\"table\"=our.table,\"E\"=E)\n",
    "    return(results.list)\n",
    "}"
   ]
  },
  {
   "cell_type": "code",
   "execution_count": null,
   "id": "ea1b5d45-0fa4-4a35-b1b9-d78930563ccc",
   "metadata": {},
   "outputs": [],
   "source": []
  },
  {
   "cell_type": "code",
   "execution_count": 38,
   "id": "8d1649a2-ff09-4bb8-9205-f437db446bda",
   "metadata": {},
   "outputs": [
    {
     "data": {
      "text/html": [
       "<style>\n",
       ".list-inline {list-style: none; margin:0; padding: 0}\n",
       ".list-inline>li {display: inline-block}\n",
       ".list-inline>li:not(:last-child)::after {content: \"\\00b7\"; padding: 0 .5ex}\n",
       "</style>\n",
       "<ol class=list-inline><li>'H'</li><li>'H'</li><li>'H'</li><li>'H'</li><li>'H'</li><li>'T'</li><li>'T'</li><li>'T'</li><li>'T'</li><li>'T'</li><li>'H'</li><li>'H'</li><li>'T'</li><li>'T'</li><li>'H'</li><li>'T'</li><li>'H'</li><li>'H'</li><li>'T'</li><li>'H'</li></ol>\n"
      ],
      "text/latex": [
       "\\begin{enumerate*}\n",
       "\\item 'H'\n",
       "\\item 'H'\n",
       "\\item 'H'\n",
       "\\item 'H'\n",
       "\\item 'H'\n",
       "\\item 'T'\n",
       "\\item 'T'\n",
       "\\item 'T'\n",
       "\\item 'T'\n",
       "\\item 'T'\n",
       "\\item 'H'\n",
       "\\item 'H'\n",
       "\\item 'T'\n",
       "\\item 'T'\n",
       "\\item 'H'\n",
       "\\item 'T'\n",
       "\\item 'H'\n",
       "\\item 'H'\n",
       "\\item 'T'\n",
       "\\item 'H'\n",
       "\\end{enumerate*}\n"
      ],
      "text/markdown": [
       "1. 'H'\n",
       "2. 'H'\n",
       "3. 'H'\n",
       "4. 'H'\n",
       "5. 'H'\n",
       "6. 'T'\n",
       "7. 'T'\n",
       "8. 'T'\n",
       "9. 'T'\n",
       "10. 'T'\n",
       "11. 'H'\n",
       "12. 'H'\n",
       "13. 'T'\n",
       "14. 'T'\n",
       "15. 'H'\n",
       "16. 'T'\n",
       "17. 'H'\n",
       "18. 'H'\n",
       "19. 'T'\n",
       "20. 'H'\n",
       "\n",
       "\n"
      ],
      "text/plain": [
       " [1] \"H\" \"H\" \"H\" \"H\" \"H\" \"T\" \"T\" \"T\" \"T\" \"T\" \"H\" \"H\" \"T\" \"T\" \"H\" \"T\" \"H\" \"H\" \"T\"\n",
       "[20] \"H\""
      ]
     },
     "metadata": {},
     "output_type": "display_data"
    }
   ],
   "source": [
    "samples1 = sample( c('T','H') ,20,replace=TRUE, prob = c(0.2,0.8) )\n",
    "samples1"
   ]
  },
  {
   "cell_type": "code",
   "execution_count": 39,
   "id": "03fe71aa-e1d8-4522-814f-ed7333c65331",
   "metadata": {},
   "outputs": [
    {
     "data": {
      "text/html": [
       "<dl>\n",
       "\t<dt>$chisqr</dt>\n",
       "\t\t<dd>0.2</dd>\n",
       "\t<dt>$table</dt>\n",
       "\t\t<dd><table class=\"dataframe\">\n",
       "<caption>A data.frame: 1 × 2</caption>\n",
       "<thead>\n",
       "\t<tr><th></th><th scope=col>H</th><th scope=col>T</th></tr>\n",
       "\t<tr><th></th><th scope=col>&lt;int&gt;</th><th scope=col>&lt;int&gt;</th></tr>\n",
       "</thead>\n",
       "<tbody>\n",
       "\t<tr><th scope=row>count.vec</th><td>11</td><td>9</td></tr>\n",
       "</tbody>\n",
       "</table>\n",
       "</dd>\n",
       "\t<dt>$E</dt>\n",
       "\t\t<dd><style>\n",
       ".list-inline {list-style: none; margin:0; padding: 0}\n",
       ".list-inline>li {display: inline-block}\n",
       ".list-inline>li:not(:last-child)::after {content: \"\\00b7\"; padding: 0 .5ex}\n",
       "</style>\n",
       "<ol class=list-inline><li>10</li><li>10</li></ol>\n",
       "</dd>\n",
       "</dl>\n"
      ],
      "text/latex": [
       "\\begin{description}\n",
       "\\item[\\$chisqr] 0.2\n",
       "\\item[\\$table] A data.frame: 1 × 2\n",
       "\\begin{tabular}{r|ll}\n",
       "  & H & T\\\\\n",
       "  & <int> & <int>\\\\\n",
       "\\hline\n",
       "\tcount.vec & 11 & 9\\\\\n",
       "\\end{tabular}\n",
       "\n",
       "\\item[\\$E] \\begin{enumerate*}\n",
       "\\item 10\n",
       "\\item 10\n",
       "\\end{enumerate*}\n",
       "\n",
       "\\end{description}\n"
      ],
      "text/markdown": [
       "$chisqr\n",
       ":   0.2\n",
       "$table\n",
       ":   \n",
       "A data.frame: 1 × 2\n",
       "\n",
       "| <!--/--> | H &lt;int&gt; | T &lt;int&gt; |\n",
       "|---|---|---|\n",
       "| count.vec | 11 | 9 |\n",
       "\n",
       "\n",
       "$E\n",
       ":   1. 10\n",
       "2. 10\n",
       "\n",
       "\n",
       "\n",
       "\n",
       "\n"
      ],
      "text/plain": [
       "$chisqr\n",
       "[1] 0.2\n",
       "\n",
       "$table\n",
       "           H T\n",
       "count.vec 11 9\n",
       "\n",
       "$E\n",
       "[1] 10 10\n"
      ]
     },
     "metadata": {},
     "output_type": "display_data"
    }
   ],
   "source": [
    "sta4614.chisq(samples1,c(0.5,0.5))"
   ]
  },
  {
   "cell_type": "code",
   "execution_count": null,
   "id": "a0d1fc56-4a30-4f49-bea7-44d539528dbe",
   "metadata": {},
   "outputs": [],
   "source": []
  },
  {
   "cell_type": "code",
   "execution_count": null,
   "id": "278d49e6-2ff9-419b-8431-ed20f44371ef",
   "metadata": {},
   "outputs": [],
   "source": []
  },
  {
   "cell_type": "code",
   "execution_count": null,
   "id": "0ecee6d5-e7f0-4dd5-8043-0d26ac891407",
   "metadata": {},
   "outputs": [],
   "source": []
  },
  {
   "cell_type": "code",
   "execution_count": null,
   "id": "b9466d0e-81d1-46dc-a05f-fe6962a5bb62",
   "metadata": {},
   "outputs": [],
   "source": []
  },
  {
   "cell_type": "code",
   "execution_count": null,
   "id": "13ca870c-b201-46c5-b052-e88705b06d8b",
   "metadata": {},
   "outputs": [],
   "source": []
  },
  {
   "cell_type": "code",
   "execution_count": null,
   "id": "a4e6239d-0d3c-4e99-bde0-01582a38da79",
   "metadata": {},
   "outputs": [],
   "source": []
  },
  {
   "cell_type": "code",
   "execution_count": null,
   "id": "99a716b8-3a84-4819-86cc-ad197019b3d9",
   "metadata": {},
   "outputs": [],
   "source": []
  },
  {
   "cell_type": "code",
   "execution_count": null,
   "id": "adda9331-e74b-46b5-ae2c-2d21126d0b0a",
   "metadata": {},
   "outputs": [],
   "source": []
  },
  {
   "cell_type": "code",
   "execution_count": null,
   "id": "7ea28f4a-f835-442e-b7d5-6f713a40cae8",
   "metadata": {},
   "outputs": [],
   "source": []
  },
  {
   "cell_type": "code",
   "execution_count": null,
   "id": "5f103b4f-2ec8-4396-9a7a-f0b7a5e43f9e",
   "metadata": {},
   "outputs": [],
   "source": []
  },
  {
   "cell_type": "code",
   "execution_count": null,
   "id": "ec2456af-f077-4336-a113-af026ce74e97",
   "metadata": {},
   "outputs": [],
   "source": []
  },
  {
   "cell_type": "code",
   "execution_count": null,
   "id": "7f433969-01d5-45e9-9298-3dbd896a4ecf",
   "metadata": {},
   "outputs": [],
   "source": []
  },
  {
   "cell_type": "code",
   "execution_count": null,
   "id": "5e9876b9-f0f6-4660-bb7e-4c6132731750",
   "metadata": {},
   "outputs": [],
   "source": []
  },
  {
   "cell_type": "code",
   "execution_count": null,
   "id": "6812b52a-f961-4a50-a200-aea0df36e575",
   "metadata": {},
   "outputs": [],
   "source": []
  },
  {
   "cell_type": "code",
   "execution_count": null,
   "id": "5864b072-d4e5-4d08-8822-41fa17887adf",
   "metadata": {},
   "outputs": [],
   "source": []
  },
  {
   "cell_type": "code",
   "execution_count": null,
   "id": "cd802f32-8d7d-46a3-a1e8-4f7f9bd52ea9",
   "metadata": {},
   "outputs": [],
   "source": []
  },
  {
   "cell_type": "code",
   "execution_count": null,
   "id": "1e76e9b8-74ec-480e-a84b-f297c06eeadb",
   "metadata": {},
   "outputs": [],
   "source": []
  }
 ],
 "metadata": {
  "kernelspec": {
   "display_name": "R",
   "language": "R",
   "name": "ir"
  },
  "language_info": {
   "codemirror_mode": "r",
   "file_extension": ".r",
   "mimetype": "text/x-r-source",
   "name": "R",
   "pygments_lexer": "r",
   "version": "3.6.3"
  }
 },
 "nbformat": 4,
 "nbformat_minor": 5
}
